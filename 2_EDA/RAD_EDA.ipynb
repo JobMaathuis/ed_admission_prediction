{
 "cells": [
  {
   "cell_type": "code",
   "execution_count": 2,
   "metadata": {},
   "outputs": [],
   "source": [
    "import pandas as pd\n",
    "import numpy as np\n",
    "import matplotlib.pyplot as plt\n",
    "import matplotlib as mpl\n",
    "import yaml"
   ]
  },
  {
   "cell_type": "code",
   "execution_count": 18,
   "metadata": {},
   "outputs": [],
   "source": [
    "## some styling \n",
    "\n",
    "plt.style.use('dark_background')\n",
    "\n",
    "# colors\n",
    "red    = '#f54242'\n",
    "orange = '#f7993b'\n",
    "yellow = '#ffe359'\n",
    "green  = '#a2f781'\n",
    "blue   = '#42daf5'\n",
    "purple = '#d170fa'\n",
    "\n",
    "# change boxplot\n",
    "mpl.rcParams['boxplot.boxprops.color'] = blue\n",
    "mpl.rcParams['boxplot.boxprops.linewidth'] = 1\n",
    "\n",
    "mpl.rcParams['boxplot.whiskerprops.color'] = blue\n",
    "mpl.rcParams['boxplot.whiskerprops.linewidth'] = 1\n",
    "\n",
    "mpl.rcParams['boxplot.medianprops.color'] = blue\n",
    "mpl.rcParams['boxplot.medianprops.linewidth'] = 1\n",
    "\n",
    "mpl.rcParams['boxplot.capprops.color'] = blue\n",
    "mpl.rcParams['boxplot.capprops.linewidth'] = 1\n",
    "\n",
    "mpl.rcParams['boxplot.flierprops.markeredgecolor'] = red"
   ]
  },
  {
   "cell_type": "markdown",
   "metadata": {},
   "source": [
    "## 1. Loading the data"
   ]
  },
  {
   "cell_type": "code",
   "execution_count": 8,
   "metadata": {},
   "outputs": [],
   "source": [
    "with open('./eda_config.yaml') as infile:\n",
    "    config = yaml.safe_load(infile)"
   ]
  },
  {
   "cell_type": "code",
   "execution_count": 9,
   "metadata": {},
   "outputs": [],
   "source": [
    "df = pd.read_csv(config['rad_data'], sep=';')\n",
    "df = df[df['TRANSTEXT'].notna()]\n",
    "df['AANKSDATUM'] = pd.to_datetime(df['AANKSDATUM'])\n",
    "df['AANGEMAAKT'] = pd.to_datetime(df['AANGEMAAKT'])"
   ]
  },
  {
   "cell_type": "code",
   "execution_count": 10,
   "metadata": {},
   "outputs": [],
   "source": [
    "# print(df[df['BESTEMMING'] == 'OPN'].iloc[1]['TRANSTEXT'])"
   ]
  },
  {
   "cell_type": "code",
   "execution_count": 11,
   "metadata": {},
   "outputs": [],
   "source": [
    "invalid_codes = ['NHTA', # Naar huis tegen advies\n",
    "                'MOR',  # Mortuarium / overleden\n",
    "                'OVNH'] # Overleden naar huis\n",
    "\n",
    "admission_codes = ['OPN', # Opname\n",
    "                 'OVER']  # Overplaatsing ander ziekenhuis\n",
    "\n",
    "df = df[~df['BESTEMMING'].isin(invalid_codes)]\n",
    "\n",
    "df.loc[df['BESTEMMING'].isin(admission_codes), 'BESTEMMING']  = 1\n",
    "df.loc[df['BESTEMMING']!=1, 'BESTEMMING'] = 0"
   ]
  },
  {
   "cell_type": "markdown",
   "metadata": {},
   "source": [
    "## 2. EDA"
   ]
  },
  {
   "cell_type": "code",
   "execution_count": 12,
   "metadata": {},
   "outputs": [],
   "source": [
    "def create_date_histogram(df, n_bins=50):\n",
    "\n",
    "    colors = [blue, red]\n",
    "\n",
    "    plt.figure(figsize=(13, 7))\n",
    "    plt.title('Distribution of the dates')\n",
    "    plt.xlabel('Year')\n",
    "    plt.ylabel('Number of lab results')\n",
    "\n",
    "    bottom = 0\n",
    "    range = (pd.to_datetime('20150101'), \n",
    "             pd.to_datetime('20230901'))\n",
    "\n",
    "    for i, categorie in enumerate(df['BESTEMMING'].unique()):\n",
    "        subset = df[df['BESTEMMING'] == i]['AANKSDATUM']\n",
    "        hist_values, bins, _ = plt.hist(subset, bins=n_bins, color=colors[i], range=range, width=40, label=categorie, bottom=bottom)\n",
    "        bottom = hist_values  # start value, so that it is stacked next time\n",
    "\n",
    "    combined_subset = df['AANKSDATUM']\n",
    "    combined_hist_values, combined_bins, _ = plt.hist(combined_subset, bins=n_bins, range=range, color='gray', alpha=0, width=40)\n",
    "\n",
    "    # Calculate the centers of the bins\n",
    "    bin_centers = (combined_bins[:-1] + combined_bins[1:]) / 2\n",
    "\n",
    "    # Fit a linear regression line to the combined histogram values\n",
    "    z = np.polyfit(bin_centers, combined_hist_values, 1)\n",
    "    p = np.poly1d(z)\n",
    "\n",
    "    # Plot the combined trendline\n",
    "    plt.plot(bin_centers, p(bin_centers), color='white', linestyle='dashed', label='Combined Trendline')\n",
    "\n",
    "    plt.gcf().autofmt_xdate()\n",
    "    plt.ylim(0, max(combined_hist_values * 1.2))\n",
    "    plt.xlim(*range)\n",
    "    plt.grid(alpha=.2)\n",
    "    plt.legend(labels=['Trendline', 'Not admitted', 'Admitted'], loc='best')\n",
    "    plt.show()\n",
    "\n",
    "def merge_datetime(date_col, time_col):\n",
    "    date_col = pd.to_datetime(date_col).astype(str)\n",
    "    return pd.to_datetime(date_col + ' ' + time_col, format='%Y-%m-%d %H:%M:%S')"
   ]
  },
  {
   "cell_type": "code",
   "execution_count": 13,
   "metadata": {},
   "outputs": [
    {
     "data": {
      "text/plain": [
       "1    43008\n",
       "0    26015\n",
       "Name: BESTEMMING, dtype: int64"
      ]
     },
     "execution_count": 13,
     "metadata": {},
     "output_type": "execute_result"
    }
   ],
   "source": [
    "df['BESTEMMING'].value_counts()"
   ]
  },
  {
   "cell_type": "code",
   "execution_count": 14,
   "metadata": {},
   "outputs": [
    {
     "data": {
      "text/plain": [
       "SEHID            0\n",
       "PATIENTNR        0\n",
       "AANKSDATUM       0\n",
       "AANKSTIJD        1\n",
       "AANGEMAAKT       0\n",
       "AANMTIJD         0\n",
       "ACCDATUM       178\n",
       "ACCTIJD        178\n",
       "INDICATIE     4783\n",
       "TRANSTEXT        0\n",
       "BESTEMMING       0\n",
       "dtype: int64"
      ]
     },
     "execution_count": 14,
     "metadata": {},
     "output_type": "execute_result"
    }
   ],
   "source": [
    "df.isna().sum()"
   ]
  },
  {
   "cell_type": "code",
   "execution_count": 15,
   "metadata": {},
   "outputs": [],
   "source": [
    "df = df[df['ACCDATUM'].notna()]"
   ]
  },
  {
   "cell_type": "code",
   "execution_count": 16,
   "metadata": {},
   "outputs": [],
   "source": [
    "df = df[df['AANKSTIJD'].notna()]"
   ]
  },
  {
   "cell_type": "code",
   "execution_count": 19,
   "metadata": {},
   "outputs": [
    {
     "data": {
      "image/png": "[encoded data removed]",
      "text/plain": [
       "<Figure size 936x504 with 1 Axes>"
      ]
     },
     "metadata": {},
     "output_type": "display_data"
    }
   ],
   "source": [
    "create_date_histogram(df)"
   ]
  },
  {
   "cell_type": "code",
   "execution_count": 20,
   "metadata": {},
   "outputs": [],
   "source": [
    "df['TIMEDELTA'] = merge_datetime(df['ACCDATUM'], df['ACCTIJD']) - merge_datetime(df['AANKSDATUM'], df['AANKSTIJD'])\n",
    "df['HOURDELTA'] = df['TIMEDELTA'].apply(lambda x: x.total_seconds() / 60 / 60)"
   ]
  },
  {
   "cell_type": "code",
   "execution_count": 21,
   "metadata": {},
   "outputs": [
    {
     "data": {
      "text/plain": [
       "15.15099645575504"
      ]
     },
     "execution_count": 21,
     "metadata": {},
     "output_type": "execute_result"
    }
   ],
   "source": [
    "df['HOURDELTA'].mean()"
   ]
  },
  {
   "cell_type": "code",
   "execution_count": 22,
   "metadata": {},
   "outputs": [
    {
     "data": {
      "text/plain": [
       "14.7"
      ]
     },
     "execution_count": 22,
     "metadata": {},
     "output_type": "execute_result"
    }
   ],
   "source": [
    "df['HOURDELTA'].median()"
   ]
  },
  {
   "cell_type": "code",
   "execution_count": 24,
   "metadata": {},
   "outputs": [
    {
     "data": {
      "image/png": "[encoded data removed]",
      "text/plain": [
       "<Figure size 720x720 with 1 Axes>"
      ]
     },
     "metadata": {},
     "output_type": "display_data"
    }
   ],
   "source": [
    "plt.figure(figsize=(10, 10))\n",
    "plt.hist(df['HOURDELTA'], color=blue, density=True, range=(-10, 60), bins=30)\n",
    "plt.xlabel('Hours')\n",
    "plt.ylabel('Frequency')\n",
    "plt.title('Histogram of difference between arrival time and approval time in Hours')\n",
    "plt.show()"
   ]
  },
  {
   "cell_type": "markdown",
   "metadata": {},
   "source": [
    "## 3. Machine Learning (test)"
   ]
  },
  {
   "cell_type": "code",
   "execution_count": 25,
   "metadata": {},
   "outputs": [
    {
     "name": "stderr",
     "output_type": "stream",
     "text": [
      "/pyenvs/admission-prediction/lib/python3.6/site-packages/tqdm/auto.py:22: TqdmWarning: IProgress not found. Please update jupyter and ipywidgets. See https://ipywidgets.readthedocs.io/en/stable/user_install.html\n",
      "  from .autonotebook import tqdm as notebook_tqdm\n",
      "None of PyTorch, TensorFlow >= 2.0, or Flax have been found. Models won't be available and only tokenizers, configuration and file/data utilities can be used.\n"
     ]
    }
   ],
   "source": [
    "from transformers import DistilBertTokenizerFast\n",
    "\n",
    "\n",
    "tokenizer = DistilBertTokenizerFast.from_pretrained('distilbert-base-uncased')"
   ]
  },
  {
   "cell_type": "code",
   "execution_count": 26,
   "metadata": {},
   "outputs": [],
   "source": [
    "from datasets import Dataset\n",
    "\n",
    "dset = Dataset.from_pandas(df)\n",
    "dsets = dset.train_test_split(test_size=0.15, seed=42)\n",
    "dsets_clean = dsets[\"train\"].train_test_split(test_size=0.30, seed=42)\n",
    "dsets_clean[\"validation\"] = dsets_clean.pop(\"test\")\n",
    "dsets_clean[\"test\"] = dsets[\"test\"]"
   ]
  },
  {
   "cell_type": "code",
   "execution_count": 8,
   "metadata": {},
   "outputs": [
    {
     "data": {
      "text/plain": [
       "ClassLabel(num_classes=2, names=[0, 1], id=None)"
      ]
     },
     "execution_count": 8,
     "metadata": {},
     "output_type": "execute_result"
    }
   ],
   "source": [
    "from datasets import ClassLabel\n",
    "\n",
    "# We take our categorical labels and wrap them in a class that easily converts back and forth between numerical representation and text\n",
    "label_names = [0, 1]\n",
    "labels = ClassLabel(names=label_names)\n",
    "labels"
   ]
  },
  {
   "cell_type": "code",
   "execution_count": 9,
   "metadata": {},
   "outputs": [],
   "source": [
    "def preprocess(batch):\n",
    "    \n",
    "    tokens = tokenizer(batch['TRANSTEXT'], truncation=True, max_length=128)  \n",
    "    tokens['label'] = labels.str2int(batch['BESTEMMING'])\n",
    "    \n",
    "    return tokens"
   ]
  },
  {
   "cell_type": "code",
   "execution_count": 10,
   "metadata": {},
   "outputs": [
    {
     "name": "stderr",
     "output_type": "stream",
     "text": [
      "100%|██████████| 42/42 [00:05<00:00,  7.70ba/s]\n",
      "100%|██████████| 18/18 [00:02<00:00,  7.46ba/s]\n",
      "100%|██████████| 11/11 [00:01<00:00,  8.17ba/s]\n"
     ]
    },
    {
     "data": {
      "text/plain": [
       "DatasetDict({\n",
       "    train: Dataset({\n",
       "        features: ['SEHID', 'PATIENTNR', 'AANKSDATUM', 'AANKSTIJD', 'AANGEMAAKT', 'AANMTIJD', 'INDICATIE', 'TRANSTEXT', 'BESTEMMING', '__index_level_0__', 'input_ids', 'attention_mask', 'label'],\n",
       "        num_rows: 41020\n",
       "    })\n",
       "    validation: Dataset({\n",
       "        features: ['SEHID', 'PATIENTNR', 'AANKSDATUM', 'AANKSTIJD', 'AANGEMAAKT', 'AANMTIJD', 'INDICATIE', 'TRANSTEXT', 'BESTEMMING', '__index_level_0__', 'input_ids', 'attention_mask', 'label'],\n",
       "        num_rows: 17581\n",
       "    })\n",
       "    test: Dataset({\n",
       "        features: ['SEHID', 'PATIENTNR', 'AANKSDATUM', 'AANKSTIJD', 'AANGEMAAKT', 'AANMTIJD', 'INDICATIE', 'TRANSTEXT', 'BESTEMMING', '__index_level_0__', 'input_ids', 'attention_mask', 'label'],\n",
       "        num_rows: 10342\n",
       "    })\n",
       "})"
      ]
     },
     "execution_count": 10,
     "metadata": {},
     "output_type": "execute_result"
    }
   ],
   "source": [
    "tokenized_dsets = dsets_clean.map(preprocess, batched=True)\n",
    "# tokenized_dsets"
   ]
  },
  {
   "cell_type": "code",
   "execution_count": 17,
   "metadata": {},
   "outputs": [
    {
     "name": "stderr",
     "output_type": "stream",
     "text": [
      "PyTorch: setting up devices\n",
      "The default value for the training argument `--report_to` will change in v5 (from all installed integrations to none). In v5, you will need to use `--report_to all` to get the same behavior as now. You should start updating your code and make this info disappear :-).\n",
      "loading configuration file https://huggingface.co/distilbert-base-uncased/resolve/main/config.json from cache at /export/home/jmaathuis/.cache/huggingface/transformers/23454919702d26495337f3da04d1655c7ee010d5ec9d77bdb9e399e00302c0a1.91b885ab15d631bf9cee9dc9d25ece0afd932f2f5130eba28f2055b2220c0333\n",
      "Model config DistilBertConfig {\n",
      "  \"activation\": \"gelu\",\n",
      "  \"architectures\": [\n",
      "    \"DistilBertForMaskedLM\"\n",
      "  ],\n",
      "  \"attention_dropout\": 0.1,\n",
      "  \"dim\": 768,\n",
      "  \"dropout\": 0.1,\n",
      "  \"hidden_dim\": 3072,\n",
      "  \"initializer_range\": 0.02,\n",
      "  \"max_position_embeddings\": 512,\n",
      "  \"model_type\": \"distilbert\",\n",
      "  \"n_heads\": 12,\n",
      "  \"n_layers\": 6,\n",
      "  \"pad_token_id\": 0,\n",
      "  \"qa_dropout\": 0.1,\n",
      "  \"seq_classif_dropout\": 0.2,\n",
      "  \"sinusoidal_pos_embds\": false,\n",
      "  \"tie_weights_\": true,\n",
      "  \"transformers_version\": \"4.18.0\",\n",
      "  \"vocab_size\": 30522\n",
      "}\n",
      "\n",
      "loading weights file https://huggingface.co/distilbert-base-uncased/resolve/main/pytorch_model.bin from cache at /export/home/jmaathuis/.cache/huggingface/transformers/9c169103d7e5a73936dd2b627e42851bec0831212b677c637033ee4bce9ab5ee.126183e36667471617ae2f0835fab707baa54b731f991507ebbb55ea85adb12a\n",
      "Some weights of the model checkpoint at distilbert-base-uncased were not used when initializing DistilBertForSequenceClassification: ['vocab_layer_norm.bias', 'vocab_layer_norm.weight', 'vocab_projector.bias', 'vocab_transform.weight', 'vocab_projector.weight', 'vocab_transform.bias']\n",
      "- This IS expected if you are initializing DistilBertForSequenceClassification from the checkpoint of a model trained on another task or with another architecture (e.g. initializing a BertForSequenceClassification model from a BertForPreTraining model).\n",
      "- This IS NOT expected if you are initializing DistilBertForSequenceClassification from the checkpoint of a model that you expect to be exactly identical (initializing a BertForSequenceClassification model from a BertForSequenceClassification model).\n",
      "Some weights of DistilBertForSequenceClassification were not initialized from the model checkpoint at distilbert-base-uncased and are newly initialized: ['pre_classifier.weight', 'classifier.weight', 'pre_classifier.bias', 'classifier.bias']\n",
      "You should probably TRAIN this model on a down-stream task to be able to use it for predictions and inference.\n",
      "Using amp half precision backend\n",
      "The following columns in the training set  don't have a corresponding argument in `DistilBertForSequenceClassification.forward` and have been ignored: __index_level_0__, PATIENTNR, SEHID, AANKSDATUM, BESTEMMING, TRANSTEXT, INDICATIE, AANKSTIJD, AANGEMAAKT, AANMTIJD. If __index_level_0__, PATIENTNR, SEHID, AANKSDATUM, BESTEMMING, TRANSTEXT, INDICATIE, AANKSTIJD, AANGEMAAKT, AANMTIJD are not expected by `DistilBertForSequenceClassification.forward`,  you can safely ignore this message.\n",
      "/pyenvs/admission-prediction/lib/python3.6/site-packages/transformers/optimization.py:309: FutureWarning: This implementation of AdamW is deprecated and will be removed in a future version. Use the PyTorch implementation torch.optim.AdamW instead, or set `no_deprecation_warning=True` to disable this warning\n",
      "  FutureWarning,\n",
      "***** Running training *****\n",
      "  Num examples = 41020\n",
      "  Num Epochs = 5\n",
      "  Instantaneous batch size per device = 16\n",
      "  Total train batch size (w. parallel, distributed & accumulation) = 16\n",
      "  Gradient Accumulation steps = 1\n",
      "  Total optimization steps = 12820\n"
     ]
    },
    {
     "data": {
      "text/html": [
       "\n",
       "    <div>\n",
       "      \n",
       "      <progress value='12820' max='12820' style='width:300px; height:20px; vertical-align: middle;'></progress>\n",
       "      [12820/12820 17:27, Epoch 5/5]\n",
       "    </div>\n",
       "    <table border=\"1\" class=\"dataframe\">\n",
       "  <thead>\n",
       " <tr style=\"text-align: left;\">\n",
       "      <th>Epoch</th>\n",
       "      <th>Training Loss</th>\n",
       "      <th>Validation Loss</th>\n",
       "      <th>Accuracy</th>\n",
       "      <th>F1 Score</th>\n",
       "      <th>Auc</th>\n",
       "    </tr>\n",
       "  </thead>\n",
       "  <tbody>\n",
       "    <tr>\n",
       "      <td>1</td>\n",
       "      <td>0.502700</td>\n",
       "      <td>0.465828</td>\n",
       "      <td>0.790228</td>\n",
       "      <td>0.843370</td>\n",
       "      <td>0.844851</td>\n",
       "    </tr>\n",
       "    <tr>\n",
       "      <td>2</td>\n",
       "      <td>0.480900</td>\n",
       "      <td>0.448467</td>\n",
       "      <td>0.799556</td>\n",
       "      <td>0.847128</td>\n",
       "      <td>0.855004</td>\n",
       "    </tr>\n",
       "    <tr>\n",
       "      <td>3</td>\n",
       "      <td>0.413400</td>\n",
       "      <td>0.461010</td>\n",
       "      <td>0.803993</td>\n",
       "      <td>0.847495</td>\n",
       "      <td>0.857400</td>\n",
       "    </tr>\n",
       "    <tr>\n",
       "      <td>4</td>\n",
       "      <td>0.329900</td>\n",
       "      <td>0.509547</td>\n",
       "      <td>0.806609</td>\n",
       "      <td>0.853474</td>\n",
       "      <td>0.853388</td>\n",
       "    </tr>\n",
       "    <tr>\n",
       "      <td>5</td>\n",
       "      <td>0.201000</td>\n",
       "      <td>0.552415</td>\n",
       "      <td>0.799556</td>\n",
       "      <td>0.844867</td>\n",
       "      <td>0.847061</td>\n",
       "    </tr>\n",
       "  </tbody>\n",
       "</table><p>"
      ],
      "text/plain": [
       "<IPython.core.display.HTML object>"
      ]
     },
     "metadata": {},
     "output_type": "display_data"
    },
    {
     "name": "stderr",
     "output_type": "stream",
     "text": [
      "Saving model checkpoint to ./results/checkpoint-500\n",
      "Configuration saved in ./results/checkpoint-500/config.json\n",
      "Model weights saved in ./results/checkpoint-500/pytorch_model.bin\n",
      "tokenizer config file saved in ./results/checkpoint-500/tokenizer_config.json\n",
      "Special tokens file saved in ./results/checkpoint-500/special_tokens_map.json\n",
      "Saving model checkpoint to ./results/checkpoint-1000\n",
      "Configuration saved in ./results/checkpoint-1000/config.json\n",
      "Model weights saved in ./results/checkpoint-1000/pytorch_model.bin\n",
      "tokenizer config file saved in ./results/checkpoint-1000/tokenizer_config.json\n",
      "Special tokens file saved in ./results/checkpoint-1000/special_tokens_map.json\n",
      "Saving model checkpoint to ./results/checkpoint-1500\n",
      "Configuration saved in ./results/checkpoint-1500/config.json\n",
      "Model weights saved in ./results/checkpoint-1500/pytorch_model.bin\n",
      "tokenizer config file saved in ./results/checkpoint-1500/tokenizer_config.json\n",
      "Special tokens file saved in ./results/checkpoint-1500/special_tokens_map.json\n",
      "Saving model checkpoint to ./results/checkpoint-2000\n",
      "Configuration saved in ./results/checkpoint-2000/config.json\n",
      "Model weights saved in ./results/checkpoint-2000/pytorch_model.bin\n",
      "tokenizer config file saved in ./results/checkpoint-2000/tokenizer_config.json\n",
      "Special tokens file saved in ./results/checkpoint-2000/special_tokens_map.json\n",
      "Saving model checkpoint to ./results/checkpoint-2500\n",
      "Configuration saved in ./results/checkpoint-2500/config.json\n",
      "Model weights saved in ./results/checkpoint-2500/pytorch_model.bin\n",
      "tokenizer config file saved in ./results/checkpoint-2500/tokenizer_config.json\n",
      "Special tokens file saved in ./results/checkpoint-2500/special_tokens_map.json\n",
      "The following columns in the evaluation set  don't have a corresponding argument in `DistilBertForSequenceClassification.forward` and have been ignored: __index_level_0__, PATIENTNR, SEHID, AANKSDATUM, BESTEMMING, TRANSTEXT, INDICATIE, AANKSTIJD, AANGEMAAKT, AANMTIJD. If __index_level_0__, PATIENTNR, SEHID, AANKSDATUM, BESTEMMING, TRANSTEXT, INDICATIE, AANKSTIJD, AANGEMAAKT, AANMTIJD are not expected by `DistilBertForSequenceClassification.forward`,  you can safely ignore this message.\n",
      "***** Running Evaluation *****\n",
      "  Num examples = 17581\n",
      "  Batch size = 64\n",
      "Saving model checkpoint to ./results/checkpoint-3000\n",
      "Configuration saved in ./results/checkpoint-3000/config.json\n",
      "Model weights saved in ./results/checkpoint-3000/pytorch_model.bin\n",
      "tokenizer config file saved in ./results/checkpoint-3000/tokenizer_config.json\n",
      "Special tokens file saved in ./results/checkpoint-3000/special_tokens_map.json\n",
      "Saving model checkpoint to ./results/checkpoint-3500\n",
      "Configuration saved in ./results/checkpoint-3500/config.json\n",
      "Model weights saved in ./results/checkpoint-3500/pytorch_model.bin\n",
      "tokenizer config file saved in ./results/checkpoint-3500/tokenizer_config.json\n",
      "Special tokens file saved in ./results/checkpoint-3500/special_tokens_map.json\n",
      "Saving model checkpoint to ./results/checkpoint-4000\n",
      "Configuration saved in ./results/checkpoint-4000/config.json\n",
      "Model weights saved in ./results/checkpoint-4000/pytorch_model.bin\n",
      "tokenizer config file saved in ./results/checkpoint-4000/tokenizer_config.json\n",
      "Special tokens file saved in ./results/checkpoint-4000/special_tokens_map.json\n",
      "Saving model checkpoint to ./results/checkpoint-4500\n",
      "Configuration saved in ./results/checkpoint-4500/config.json\n",
      "Model weights saved in ./results/checkpoint-4500/pytorch_model.bin\n",
      "tokenizer config file saved in ./results/checkpoint-4500/tokenizer_config.json\n",
      "Special tokens file saved in ./results/checkpoint-4500/special_tokens_map.json\n",
      "Saving model checkpoint to ./results/checkpoint-5000\n",
      "Configuration saved in ./results/checkpoint-5000/config.json\n",
      "Model weights saved in ./results/checkpoint-5000/pytorch_model.bin\n",
      "tokenizer config file saved in ./results/checkpoint-5000/tokenizer_config.json\n",
      "Special tokens file saved in ./results/checkpoint-5000/special_tokens_map.json\n",
      "The following columns in the evaluation set  don't have a corresponding argument in `DistilBertForSequenceClassification.forward` and have been ignored: __index_level_0__, PATIENTNR, SEHID, AANKSDATUM, BESTEMMING, TRANSTEXT, INDICATIE, AANKSTIJD, AANGEMAAKT, AANMTIJD. If __index_level_0__, PATIENTNR, SEHID, AANKSDATUM, BESTEMMING, TRANSTEXT, INDICATIE, AANKSTIJD, AANGEMAAKT, AANMTIJD are not expected by `DistilBertForSequenceClassification.forward`,  you can safely ignore this message.\n",
      "***** Running Evaluation *****\n",
      "  Num examples = 17581\n",
      "  Batch size = 64\n",
      "Saving model checkpoint to ./results/checkpoint-5500\n",
      "Configuration saved in ./results/checkpoint-5500/config.json\n",
      "Model weights saved in ./results/checkpoint-5500/pytorch_model.bin\n",
      "tokenizer config file saved in ./results/checkpoint-5500/tokenizer_config.json\n",
      "Special tokens file saved in ./results/checkpoint-5500/special_tokens_map.json\n",
      "Saving model checkpoint to ./results/checkpoint-6000\n",
      "Configuration saved in ./results/checkpoint-6000/config.json\n",
      "Model weights saved in ./results/checkpoint-6000/pytorch_model.bin\n",
      "tokenizer config file saved in ./results/checkpoint-6000/tokenizer_config.json\n",
      "Special tokens file saved in ./results/checkpoint-6000/special_tokens_map.json\n",
      "Saving model checkpoint to ./results/checkpoint-6500\n",
      "Configuration saved in ./results/checkpoint-6500/config.json\n",
      "Model weights saved in ./results/checkpoint-6500/pytorch_model.bin\n",
      "tokenizer config file saved in ./results/checkpoint-6500/tokenizer_config.json\n",
      "Special tokens file saved in ./results/checkpoint-6500/special_tokens_map.json\n",
      "Saving model checkpoint to ./results/checkpoint-7000\n",
      "Configuration saved in ./results/checkpoint-7000/config.json\n",
      "Model weights saved in ./results/checkpoint-7000/pytorch_model.bin\n",
      "tokenizer config file saved in ./results/checkpoint-7000/tokenizer_config.json\n",
      "Special tokens file saved in ./results/checkpoint-7000/special_tokens_map.json\n",
      "Saving model checkpoint to ./results/checkpoint-7500\n",
      "Configuration saved in ./results/checkpoint-7500/config.json\n",
      "Model weights saved in ./results/checkpoint-7500/pytorch_model.bin\n",
      "tokenizer config file saved in ./results/checkpoint-7500/tokenizer_config.json\n",
      "Special tokens file saved in ./results/checkpoint-7500/special_tokens_map.json\n",
      "The following columns in the evaluation set  don't have a corresponding argument in `DistilBertForSequenceClassification.forward` and have been ignored: __index_level_0__, PATIENTNR, SEHID, AANKSDATUM, BESTEMMING, TRANSTEXT, INDICATIE, AANKSTIJD, AANGEMAAKT, AANMTIJD. If __index_level_0__, PATIENTNR, SEHID, AANKSDATUM, BESTEMMING, TRANSTEXT, INDICATIE, AANKSTIJD, AANGEMAAKT, AANMTIJD are not expected by `DistilBertForSequenceClassification.forward`,  you can safely ignore this message.\n",
      "***** Running Evaluation *****\n",
      "  Num examples = 17581\n",
      "  Batch size = 64\n",
      "Saving model checkpoint to ./results/checkpoint-8000\n",
      "Configuration saved in ./results/checkpoint-8000/config.json\n",
      "Model weights saved in ./results/checkpoint-8000/pytorch_model.bin\n",
      "tokenizer config file saved in ./results/checkpoint-8000/tokenizer_config.json\n",
      "Special tokens file saved in ./results/checkpoint-8000/special_tokens_map.json\n",
      "Saving model checkpoint to ./results/checkpoint-8500\n",
      "Configuration saved in ./results/checkpoint-8500/config.json\n",
      "Model weights saved in ./results/checkpoint-8500/pytorch_model.bin\n",
      "tokenizer config file saved in ./results/checkpoint-8500/tokenizer_config.json\n",
      "Special tokens file saved in ./results/checkpoint-8500/special_tokens_map.json\n",
      "Saving model checkpoint to ./results/checkpoint-9000\n",
      "Configuration saved in ./results/checkpoint-9000/config.json\n",
      "Model weights saved in ./results/checkpoint-9000/pytorch_model.bin\n",
      "tokenizer config file saved in ./results/checkpoint-9000/tokenizer_config.json\n",
      "Special tokens file saved in ./results/checkpoint-9000/special_tokens_map.json\n",
      "Saving model checkpoint to ./results/checkpoint-9500\n",
      "Configuration saved in ./results/checkpoint-9500/config.json\n",
      "Model weights saved in ./results/checkpoint-9500/pytorch_model.bin\n",
      "tokenizer config file saved in ./results/checkpoint-9500/tokenizer_config.json\n",
      "Special tokens file saved in ./results/checkpoint-9500/special_tokens_map.json\n",
      "Saving model checkpoint to ./results/checkpoint-10000\n",
      "Configuration saved in ./results/checkpoint-10000/config.json\n",
      "Model weights saved in ./results/checkpoint-10000/pytorch_model.bin\n",
      "tokenizer config file saved in ./results/checkpoint-10000/tokenizer_config.json\n",
      "Special tokens file saved in ./results/checkpoint-10000/special_tokens_map.json\n",
      "The following columns in the evaluation set  don't have a corresponding argument in `DistilBertForSequenceClassification.forward` and have been ignored: __index_level_0__, PATIENTNR, SEHID, AANKSDATUM, BESTEMMING, TRANSTEXT, INDICATIE, AANKSTIJD, AANGEMAAKT, AANMTIJD. If __index_level_0__, PATIENTNR, SEHID, AANKSDATUM, BESTEMMING, TRANSTEXT, INDICATIE, AANKSTIJD, AANGEMAAKT, AANMTIJD are not expected by `DistilBertForSequenceClassification.forward`,  you can safely ignore this message.\n",
      "***** Running Evaluation *****\n",
      "  Num examples = 17581\n",
      "  Batch size = 64\n",
      "Saving model checkpoint to ./results/checkpoint-10500\n",
      "Configuration saved in ./results/checkpoint-10500/config.json\n",
      "Model weights saved in ./results/checkpoint-10500/pytorch_model.bin\n",
      "tokenizer config file saved in ./results/checkpoint-10500/tokenizer_config.json\n",
      "Special tokens file saved in ./results/checkpoint-10500/special_tokens_map.json\n",
      "Saving model checkpoint to ./results/checkpoint-11000\n",
      "Configuration saved in ./results/checkpoint-11000/config.json\n",
      "Model weights saved in ./results/checkpoint-11000/pytorch_model.bin\n",
      "tokenizer config file saved in ./results/checkpoint-11000/tokenizer_config.json\n",
      "Special tokens file saved in ./results/checkpoint-11000/special_tokens_map.json\n",
      "Saving model checkpoint to ./results/checkpoint-11500\n",
      "Configuration saved in ./results/checkpoint-11500/config.json\n",
      "Model weights saved in ./results/checkpoint-11500/pytorch_model.bin\n",
      "tokenizer config file saved in ./results/checkpoint-11500/tokenizer_config.json\n",
      "Special tokens file saved in ./results/checkpoint-11500/special_tokens_map.json\n",
      "Saving model checkpoint to ./results/checkpoint-12000\n",
      "Configuration saved in ./results/checkpoint-12000/config.json\n",
      "Model weights saved in ./results/checkpoint-12000/pytorch_model.bin\n",
      "tokenizer config file saved in ./results/checkpoint-12000/tokenizer_config.json\n",
      "Special tokens file saved in ./results/checkpoint-12000/special_tokens_map.json\n",
      "Saving model checkpoint to ./results/checkpoint-12500\n",
      "Configuration saved in ./results/checkpoint-12500/config.json\n",
      "Model weights saved in ./results/checkpoint-12500/pytorch_model.bin\n",
      "tokenizer config file saved in ./results/checkpoint-12500/tokenizer_config.json\n",
      "Special tokens file saved in ./results/checkpoint-12500/special_tokens_map.json\n",
      "The following columns in the evaluation set  don't have a corresponding argument in `DistilBertForSequenceClassification.forward` and have been ignored: __index_level_0__, PATIENTNR, SEHID, AANKSDATUM, BESTEMMING, TRANSTEXT, INDICATIE, AANKSTIJD, AANGEMAAKT, AANMTIJD. If __index_level_0__, PATIENTNR, SEHID, AANKSDATUM, BESTEMMING, TRANSTEXT, INDICATIE, AANKSTIJD, AANGEMAAKT, AANMTIJD are not expected by `DistilBertForSequenceClassification.forward`,  you can safely ignore this message.\n",
      "***** Running Evaluation *****\n",
      "  Num examples = 17581\n",
      "  Batch size = 64\n",
      "\n",
      "\n",
      "Training completed. Do not forget to share your model on huggingface.co/models =)\n",
      "\n",
      "\n"
     ]
    }
   ],
   "source": [
    "import numpy as np\n",
    "from sklearn.metrics import accuracy_score, f1_score, roc_auc_score\n",
    "from scipy.special import softmax\n",
    "\n",
    "def compute_metrics(eval_preds):\n",
    "    logits, labels = eval_preds\n",
    "    probabilities = softmax(logits, axis=1)  # Compute probabilities using softmax\n",
    "    predictions = np.argmax(logits, axis=1)  # Compute predicted labels\n",
    "    auc_score = roc_auc_score(labels, probabilities[:, 1])  # Calculate AUC for the positive class\n",
    "    \n",
    "    return {\n",
    "        \"accuracy\": accuracy_score(labels, predictions),\n",
    "        \"f1_score\": f1_score(labels, predictions),\n",
    "        # \"probabilities\": probabilities.tolist(),\n",
    "        \"auc\": auc_score  # Add AUC score to the output\n",
    "    }\n",
    "\n",
    "\n",
    "# This step configures our training experiment\n",
    "training_args = TrainingArguments(\n",
    "    output_dir='./results',          # output directory\n",
    "    num_train_epochs=5,              # total number of training epochs\n",
    "    per_device_train_batch_size=16,  # batch size per device during training\n",
    "    per_device_eval_batch_size=64,   # batch size for evaluation\n",
    "    warmup_steps=500,                # number of warmup steps for learning rate scheduler\n",
    "    weight_decay=0.01,               # strength of weight decay\n",
    "    logging_dir='./logs',            # directory for storing logs\n",
    "    logging_steps=10,\n",
    "    evaluation_strategy='epoch',\n",
    "    fp16=True\n",
    ")\n",
    "\n",
    "# Now we select our model and train it\n",
    "model = DistilBertForSequenceClassification.from_pretrained(\"distilbert-base-uncased\")\n",
    "trainer = Trainer(\n",
    "    model=model,\n",
    "    args=training_args,\n",
    "    train_dataset=tokenized_dsets['train'],\n",
    "    eval_dataset=tokenized_dsets['validation'],\n",
    "    tokenizer=tokenizer,\n",
    "    compute_metrics=compute_metrics\n",
    ")\n",
    "\n",
    "train_output = trainer.train()"
   ]
  },
  {
   "cell_type": "code",
   "execution_count": 18,
   "metadata": {},
   "outputs": [
    {
     "name": "stderr",
     "output_type": "stream",
     "text": [
      "The following columns in the test set  don't have a corresponding argument in `DistilBertForSequenceClassification.forward` and have been ignored: __index_level_0__, PATIENTNR, SEHID, AANKSDATUM, BESTEMMING, TRANSTEXT, INDICATIE, AANKSTIJD, AANGEMAAKT, AANMTIJD. If __index_level_0__, PATIENTNR, SEHID, AANKSDATUM, BESTEMMING, TRANSTEXT, INDICATIE, AANKSTIJD, AANGEMAAKT, AANMTIJD are not expected by `DistilBertForSequenceClassification.forward`,  you can safely ignore this message.\n",
      "***** Running Prediction *****\n",
      "  Num examples = 10342\n",
      "  Batch size = 64\n"
     ]
    },
    {
     "data": {
      "text/html": [
       "\n",
       "    <div>\n",
       "      \n",
       "      <progress value='162' max='162' style='width:300px; height:20px; vertical-align: middle;'></progress>\n",
       "      [162/162 00:08]\n",
       "    </div>\n",
       "    "
      ],
      "text/plain": [
       "<IPython.core.display.HTML object>"
      ]
     },
     "metadata": {},
     "output_type": "display_data"
    },
    {
     "name": "stdout",
     "output_type": "stream",
     "text": [
      "{'test_loss': 0.5426986813545227, 'test_accuracy': 0.8002320634306711, 'test_f1_score': 0.8433899332929049, 'test_auc': 0.8554649537325815, 'test_runtime': 8.6009, 'test_samples_per_second': 1202.435, 'test_steps_per_second': 18.835}\n"
     ]
    }
   ],
   "source": [
    "test_output = trainer.predict(tokenized_dsets['test'])\n",
    "print(test_output.metrics)"
   ]
  }
 ],
 "metadata": {
  "kernelspec": {
   "display_name": "Python 3.6.9 ('admission-prediction')",
   "language": "python",
   "name": "python3"
  },
  "language_info": {
   "codemirror_mode": {
    "name": "ipython",
    "version": 3
   },
   "file_extension": ".py",
   "mimetype": "text/x-python",
   "name": "python",
   "nbconvert_exporter": "python",
   "pygments_lexer": "ipython3",
   "version": "3.6.9"
  },
  "orig_nbformat": 4,
  "vscode": {
   "interpreter": {
    "hash": "610080897700ceb6139ba9181b72c2dc89215b5cb12adb0997c67ba6507a31c9"
   }
  }
 },
 "nbformat": 4,
 "nbformat_minor": 2
}
